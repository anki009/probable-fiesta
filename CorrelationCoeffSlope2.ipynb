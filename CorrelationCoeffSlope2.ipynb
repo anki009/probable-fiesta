{
  "nbformat": 4,
  "nbformat_minor": 0,
  "metadata": {
    "colab": {
      "name": "CorrelationCoeffSlope2.ipynb",
      "version": "0.3.2",
      "provenance": [],
      "include_colab_link": true
    },
    "kernelspec": {
      "name": "python3",
      "display_name": "Python 3"
    }
  },
  "cells": [
    {
      "cell_type": "markdown",
      "metadata": {
        "id": "view-in-github",
        "colab_type": "text"
      },
      "source": [
        "<a href=\"https://colab.research.google.com/github/anki009/probable-fiesta/blob/master/CorrelationCoeffSlope2.ipynb\" target=\"_parent\"><img src=\"https://colab.research.google.com/assets/colab-badge.svg\" alt=\"Open In Colab\"/></a>"
      ]
    },
    {
      "cell_type": "code",
      "metadata": {
        "id": "G6g3_D8gyDTY",
        "colab_type": "code",
        "colab": {
          "base_uri": "https://localhost:8080/",
          "height": 68
        },
        "outputId": "04f4b1c8-d890-4044-e1ca-ef4ed2bd4a8c"
      },
      "source": [
        "def mean(x):\n",
        "    return sum(x)/len(x)\n",
        "\n",
        "def var(x):\n",
        "    x_bar = mean(x)\n",
        "    variance = sum((i - x_bar) ** 2 for i in x) / len(x)\n",
        "    return variance\n",
        "\n",
        "def std(x):\n",
        "    return var(x)**0.5\n",
        "\n",
        "def cov(x,y):\n",
        "    n=len(x)\n",
        "    x_bar = mean(x)\n",
        "    y_bar = mean(y)\n",
        "    return (sum((x[i]-x_bar)*(y[i]-y_bar) for i in range(n)))\n",
        "\n",
        "def karlpearsonCorrCoeff(x,y):\n",
        "    covarience = cov(x,y)\n",
        "    std_x = std(x)\n",
        "    std_y = std(y)\n",
        "    n=len(x)\n",
        "    return covarience/(n * std_x * std_y)\n",
        "\n",
        "\n",
        " \n",
        "\n",
        "phy = [15, 12, 8, 8, 7, 7, 7, 6, 5, 3]\n",
        "his = [10, 25, 17, 11, 13, 17, 20, 13, 9, 15]\n",
        "r = karlpearsonCorrCoeff(phy,his)  \n",
        "beta1 = (r*std(his))/std(phy)  \n",
        "print(round(r,3))\n",
        "print(\"slope :- \")\n",
        "print(round(beta1, 3))\n"
      ],
      "execution_count": 7,
      "outputs": [
        {
          "output_type": "stream",
          "text": [
            "0.145\n",
            "slope :- \n",
            "0.208\n"
          ],
          "name": "stdout"
        }
      ]
    }
  ]
}