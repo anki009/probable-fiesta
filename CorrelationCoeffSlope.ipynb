{
  "nbformat": 4,
  "nbformat_minor": 0,
  "metadata": {
    "colab": {
      "name": "CorrelationCoeffSlope.ipynb",
      "version": "0.3.2",
      "provenance": [],
      "include_colab_link": true
    },
    "kernelspec": {
      "name": "python3",
      "display_name": "Python 3"
    }
  },
  "cells": [
    {
      "cell_type": "markdown",
      "metadata": {
        "id": "view-in-github",
        "colab_type": "text"
      },
      "source": [
        "<a href=\"https://colab.research.google.com/github/anki009/probable-fiesta/blob/master/CorrelationCoeffSlope.ipynb\" target=\"_parent\"><img src=\"https://colab.research.google.com/assets/colab-badge.svg\" alt=\"Open In Colab\"/></a>"
      ]
    },
    {
      "cell_type": "code",
      "metadata": {
        "id": "G6g3_D8gyDTY",
        "colab_type": "code",
        "colab": {
          "base_uri": "https://localhost:8080/",
          "height": 34
        },
        "outputId": "fce436ac-b52f-4d0f-ecca-ab048c0e65d4"
      },
      "source": [
        "\n",
        "import numpy as np\n",
        "import pandas as pd\n",
        "\n",
        "\n",
        "physics = [15, 12, 8, 8, 7, 7, 7, 6, 5, 3]\n",
        "history = [10, 25, 17, 11, 13, 17, 20, 13, 9, 15]\n",
        "\n",
        "x = pd.Series(physics)\n",
        "y = pd.Series(history)\n",
        "\n",
        "r = x.cov(y)/((x.std())*(y.std()))\n",
        "\n",
        "\n",
        "slope = (r*y.std())/x.std()\n",
        "print(round(slope,3))\n"
      ],
      "execution_count": 2,
      "outputs": [
        {
          "output_type": "stream",
          "text": [
            "0.208\n"
          ],
          "name": "stdout"
        }
      ]
    }
  ]
}