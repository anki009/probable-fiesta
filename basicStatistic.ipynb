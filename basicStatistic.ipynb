{
  "nbformat": 4,
  "nbformat_minor": 0,
  "metadata": {
    "colab": {
      "name": "basicStatistic.ipynb",
      "version": "0.3.2",
      "provenance": [],
      "include_colab_link": true
    },
    "kernelspec": {
      "name": "python3",
      "display_name": "Python 3"
    }
  },
  "cells": [
    {
      "cell_type": "markdown",
      "metadata": {
        "id": "view-in-github",
        "colab_type": "text"
      },
      "source": [
        "<a href=\"https://colab.research.google.com/github/anki009/probable-fiesta/blob/master/basicStatistic.ipynb\" target=\"_parent\"><img src=\"https://colab.research.google.com/assets/colab-badge.svg\" alt=\"Open In Colab\"/></a>"
      ]
    },
    {
      "cell_type": "code",
      "metadata": {
        "id": "YOO-p8o-7LR1",
        "colab_type": "code",
        "colab": {
          "base_uri": "https://localhost:8080/",
          "height": 136
        },
        "outputId": "cb47b8e9-e614-49ca-c836-f587e57905ef"
      },
      "source": [
        "import numpy as np\n",
        "from scipy import stats\n",
        "n=int(input())\n",
        "arr = list(map(int,input().split()))\n",
        "mean   = round(np.mean(arr),1)\n",
        "median = round(np.median(arr),1)\n",
        "mode   = round(stats.mode(arr)[0][0],0)\n",
        "std    = round(np.std(arr),1)\n",
        "low    = round(np.mean(arr)-1.960*(np.std(arr)/(n**0.5)),1)\n",
        "upp    = round(np.mean(arr)+1.960*(np.std(arr)/(n**0.5)),1)\n",
        "\n",
        "print(mean)\n",
        "print(median)\n",
        "print(mode)\n",
        "print(std)\n",
        "print(low,upp)"
      ],
      "execution_count": 1,
      "outputs": [
        {
          "output_type": "stream",
          "text": [
            "10\n",
            "64630 11735 14216 99233 14470 4978 73429 38120 51135 67060\n",
            "43900.6\n",
            "44627.5\n",
            "4978\n",
            "30466.9\n",
            "25017.0 62784.2\n"
          ],
          "name": "stdout"
        }
      ]
    }
  ]
}