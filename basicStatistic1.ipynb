{
  "nbformat": 4,
  "nbformat_minor": 0,
  "metadata": {
    "colab": {
      "name": "basicStatistic.ipynb",
      "version": "0.3.2",
      "provenance": [],
      "include_colab_link": true
    },
    "kernelspec": {
      "name": "python3",
      "display_name": "Python 3"
    }
  },
  "cells": [
    {
      "cell_type": "markdown",
      "metadata": {
        "id": "view-in-github",
        "colab_type": "text"
      },
      "source": [
        "<a href=\"https://colab.research.google.com/github/anki009/probable-fiesta/blob/master/basicStatistic1.ipynb\" target=\"_parent\"><img src=\"https://colab.research.google.com/assets/colab-badge.svg\" alt=\"Open In Colab\"/></a>"
      ]
    },
    {
      "cell_type": "code",
      "metadata": {
        "id": "YOO-p8o-7LR1",
        "colab_type": "code",
        "outputId": "f663e9e0-8ad6-41b0-f951-9dbcdf316411",
        "colab": {
          "base_uri": "https://localhost:8080/",
          "height": 136
        }
      },
      "source": [
        "import numpy as np\n",
        "from scipy import stats\n",
        "n=int(input())\n",
        "arr = list(map(int,input().split()))\n",
        "mean   = np.mean(arr)\n",
        "median = np.median(arr)\n",
        "mode   = stats.mode(arr)[0][0]\n",
        "std    = np.std(arr)\n",
        "ci_lower    = np.mean(arr)-1.960*(np.std(arr)/(n**0.5))\n",
        "ci_upper    = np.mean(arr)+1.960*(np.std(arr)/(n**0.5))\n",
        "\n",
        "print(round(mean,1))\n",
        "print(round(median,1))\n",
        "print(round(mode,0))\n",
        "print(round(std,1))\n",
        "print(round(ci_lower,1),round(ci_upper,1))"
      ],
      "execution_count": 1,
      "outputs": [
        {
          "output_type": "stream",
          "text": [
            "10\n",
            "64630 11735 14216 99233 14470 4978 73429 38120 51135 67060\n",
            "43900.6\n",
            "44627.5\n",
            "4978\n",
            "30466.9\n",
            "25017.0 62784.2\n"
          ],
          "name": "stdout"
        }
      ]
    }
  ]
}