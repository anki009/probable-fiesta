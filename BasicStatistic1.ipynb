{
  "nbformat": 4,
  "nbformat_minor": 0,
  "metadata": {
    "colab": {
      "name": "BasicStatistic1.ipynb",
      "version": "0.3.2",
      "provenance": [],
      "include_colab_link": true
    },
    "kernelspec": {
      "name": "python3",
      "display_name": "Python 3"
    }
  },
  "cells": [
    {
      "cell_type": "markdown",
      "metadata": {
        "id": "view-in-github",
        "colab_type": "text"
      },
      "source": [
        "<a href=\"https://colab.research.google.com/github/anki009/probable-fiesta/blob/master/BasicStatistic1.ipynb\" target=\"_parent\"><img src=\"https://colab.research.google.com/assets/colab-badge.svg\" alt=\"Open In Colab\"/></a>"
      ]
    },
    {
      "cell_type": "code",
      "metadata": {
        "id": "Y6GPx5RhYkIo",
        "colab_type": "code",
        "colab": {
          "base_uri": "https://localhost:8080/",
          "height": 136
        },
        "outputId": "c898d8b9-89bc-4d1d-c3ea-cdf54238f99c"
      },
      "source": [
        "n=int(input())\n",
        "arr = list(map(int, input().split()))\n",
        "\n",
        "def avg(x):\n",
        "    return sum(x)/len(x)\n",
        "\n",
        "def median(x):\n",
        "    x.sort()\n",
        "    n=len(x)\n",
        "    return (x[(n/2)]) if n%2!=0 else ((x[n//2 - 1] + x[n//2]) / 2)\n",
        "\n",
        "def mode(x):\n",
        "    u = list(set(x))\n",
        "    u.sort()\n",
        "    freq=[]\n",
        "    for i in u:\n",
        "        freq.append(x.count(i))\n",
        "    return u[freq.index(max(freq))]\n",
        "\n",
        "def var(x):\n",
        "    x_bar = avg(x)\n",
        "    return sum((xi - x_bar) ** 2 for xi in x) / len(x)\n",
        "\n",
        "def std(x):\n",
        "    return var(x)**0.5\n",
        "\n",
        "\"\"\"confidence interval \"\"\"\n",
        "lower = round(avg(arr) - 1.96 * ((std(arr) / (n ** 0.5))), 1)\n",
        "upper = round(avg(arr) + 1.96 * ((std(arr) / (n ** 0.5))), 1)\n",
        "\n",
        "\n",
        "\n",
        "print(round(avg(arr),1))\n",
        "print(round(median(arr),1))\n",
        "print(mode(arr))\n",
        "print(round(std(arr),1))\n",
        "print(round(lower,1),round(upper,1))"
      ],
      "execution_count": 1,
      "outputs": [
        {
          "output_type": "stream",
          "text": [
            "10\n",
            "64630 11735 14216 99233 14470 4978 73429 38120 51135 67060\n",
            "43900.6\n",
            "44627.5\n",
            "4978\n",
            "30466.9\n",
            "25017.0 62784.2\n"
          ],
          "name": "stdout"
        }
      ]
    }
  ]
}