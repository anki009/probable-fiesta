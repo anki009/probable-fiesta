{
  "nbformat": 4,
  "nbformat_minor": 0,
  "metadata": {
    "colab": {
      "name": "basicstatistic.ipynb",
      "version": "0.3.2",
      "provenance": [],
      "include_colab_link": true
    },
    "kernelspec": {
      "name": "python3",
      "display_name": "Python 3"
    }
  },
  "cells": [
    {
      "cell_type": "markdown",
      "metadata": {
        "id": "view-in-github",
        "colab_type": "text"
      },
      "source": [
        "<a href=\"https://colab.research.google.com/github/anki009/probable-fiesta/blob/master/basicstatistic.ipynb\" target=\"_parent\"><img src=\"https://colab.research.google.com/assets/colab-badge.svg\" alt=\"Open In Colab\"/></a>"
      ]
    },
    {
      "cell_type": "code",
      "metadata": {
        "id": "oHJ0whs-N5LV",
        "colab_type": "code",
        "colab": {
          "base_uri": "https://localhost:8080/",
          "height": 136
        },
        "outputId": "ed3450a5-aa63-4504-88ae-e41a7113da4c"
      },
      "source": [
        "import numpy as np\n",
        "from scipy import stats\n",
        "n=int(input())\n",
        "arr = list(map(int,input().split()))\n",
        "mean   = round(np.mean(arr),1)\n",
        "median = round(np.median(arr),1)\n",
        "mode   = round(stats.mode(arr)[0][0],0)\n",
        "std    = round(np.std(arr),1)\n",
        "low    = round(np.mean(arr)-1.960*(np.std(arr)/(n**0.5)),1)\n",
        "upp    = round(np.mean(arr)+1.960*(np.std(arr)/(n**0.5)),1)\n",
        "\n",
        "print(mean)\n",
        "print(median)\n",
        "print(mode)\n",
        "print(std)\n",
        "print(low,upp)"
      ],
      "execution_count": 5,
      "outputs": [
        {
          "output_type": "stream",
          "text": [
            "4\n",
            "4 2 6 8\n",
            "5.0\n",
            "5.0\n",
            "2\n",
            "2.2\n",
            "2.8 7.2\n"
          ],
          "name": "stdout"
        }
      ]
    }
  ]
}